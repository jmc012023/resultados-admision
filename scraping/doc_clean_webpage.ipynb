{
 "cells": [
  {
   "cell_type": "code",
   "execution_count": 1,
   "metadata": {},
   "outputs": [],
   "source": [
    "import pandas as pd\n",
    "import re\n",
    "import clean_wpcontent as cwp"
   ]
  },
  {
   "cell_type": "code",
   "execution_count": 2,
   "metadata": {},
   "outputs": [
    {
     "data": {
      "text/html": [
       "<div>\n",
       "<style scoped>\n",
       "    .dataframe tbody tr th:only-of-type {\n",
       "        vertical-align: middle;\n",
       "    }\n",
       "\n",
       "    .dataframe tbody tr th {\n",
       "        vertical-align: top;\n",
       "    }\n",
       "\n",
       "    .dataframe thead th {\n",
       "        text-align: right;\n",
       "    }\n",
       "</style>\n",
       "<table border=\"1\" class=\"dataframe\">\n",
       "  <thead>\n",
       "    <tr style=\"text-align: right;\">\n",
       "      <th></th>\n",
       "      <th>id_result</th>\n",
       "      <th>period</th>\n",
       "      <th>test_type</th>\n",
       "      <th>details</th>\n",
       "      <th>link</th>\n",
       "    </tr>\n",
       "  </thead>\n",
       "  <tbody>\n",
       "    <tr>\n",
       "      <th>0</th>\n",
       "      <td>0</td>\n",
       "      <td>ADMISIÓN 2019-I</td>\n",
       "      <td>CEPUNT</td>\n",
       "      <td>Resultados Cepunt Trujillo</td>\n",
       "      <td>http://admisionunt.info/docs/padrones/20191/20...</td>\n",
       "    </tr>\n",
       "    <tr>\n",
       "      <th>1</th>\n",
       "      <td>1</td>\n",
       "      <td>ADMISIÓN 2019-I</td>\n",
       "      <td>CEPUNT</td>\n",
       "      <td>Resultados Cepunt Valle Jequetepeque</td>\n",
       "      <td>http://admisionunt.info/docs/padrones/20191/20...</td>\n",
       "    </tr>\n",
       "    <tr>\n",
       "      <th>2</th>\n",
       "      <td>2</td>\n",
       "      <td>ADMISIÓN 2019-I</td>\n",
       "      <td>CEPUNT</td>\n",
       "      <td>Resultados Cepunt Huamachuco</td>\n",
       "      <td>http://admisionunt.info/docs/padrones/20191/20...</td>\n",
       "    </tr>\n",
       "    <tr>\n",
       "      <th>3</th>\n",
       "      <td>3</td>\n",
       "      <td>ADMISIÓN 2019-I</td>\n",
       "      <td>ORDINARIO</td>\n",
       "      <td>Resultados Ordinario Área A Trujillo</td>\n",
       "      <td>http://admisionunt.info/docs/padrones/20191/20...</td>\n",
       "    </tr>\n",
       "    <tr>\n",
       "      <th>4</th>\n",
       "      <td>4</td>\n",
       "      <td>ADMISIÓN 2019-I</td>\n",
       "      <td>ORDINARIO</td>\n",
       "      <td>Resultados Ordinario Área B Trujillo</td>\n",
       "      <td>http://admisionunt.info/docs/padrones/20191/20...</td>\n",
       "    </tr>\n",
       "    <tr>\n",
       "      <th>...</th>\n",
       "      <td>...</td>\n",
       "      <td>...</td>\n",
       "      <td>...</td>\n",
       "      <td>...</td>\n",
       "      <td>...</td>\n",
       "    </tr>\n",
       "    <tr>\n",
       "      <th>213</th>\n",
       "      <td>213</td>\n",
       "      <td>ADMISION 2025-I</td>\n",
       "      <td>CEPUNT</td>\n",
       "      <td>I Sumativo CEPUNT: Valle Jequetepeque</td>\n",
       "      <td>https://unitru.edu.pe/webfiles///Convocatoria/...</td>\n",
       "    </tr>\n",
       "    <tr>\n",
       "      <th>214</th>\n",
       "      <td>214</td>\n",
       "      <td>ADMISION 2025-I</td>\n",
       "      <td>CEPUNT</td>\n",
       "      <td>I Sumativo CEPUNT: Huamachuco</td>\n",
       "      <td>https://unitru.edu.pe/webfiles///Convocatoria/...</td>\n",
       "    </tr>\n",
       "    <tr>\n",
       "      <th>215</th>\n",
       "      <td>215</td>\n",
       "      <td>ADMISION 2025-I</td>\n",
       "      <td>CEPUNT</td>\n",
       "      <td>II Sumativo CEPUNT: Trujillo</td>\n",
       "      <td>https://unitru.edu.pe/webfiles///Convocatoria/...</td>\n",
       "    </tr>\n",
       "    <tr>\n",
       "      <th>216</th>\n",
       "      <td>216</td>\n",
       "      <td>ADMISION 2025-I</td>\n",
       "      <td>CEPUNT</td>\n",
       "      <td>II Sumativo CEPUNT: Valle Jequetepeque</td>\n",
       "      <td>https://unitru.edu.pe/webfiles///Convocatoria/...</td>\n",
       "    </tr>\n",
       "    <tr>\n",
       "      <th>217</th>\n",
       "      <td>217</td>\n",
       "      <td>ADMISION 2025-I</td>\n",
       "      <td>CEPUNT</td>\n",
       "      <td>II Sumativo CEPUNT: Huamachuco</td>\n",
       "      <td>https://unitru.edu.pe/webfiles///Convocatoria/...</td>\n",
       "    </tr>\n",
       "  </tbody>\n",
       "</table>\n",
       "<p>218 rows × 5 columns</p>\n",
       "</div>"
      ],
      "text/plain": [
       "     id_result           period  test_type  \\\n",
       "0            0  ADMISIÓN 2019-I     CEPUNT   \n",
       "1            1  ADMISIÓN 2019-I     CEPUNT   \n",
       "2            2  ADMISIÓN 2019-I     CEPUNT   \n",
       "3            3  ADMISIÓN 2019-I  ORDINARIO   \n",
       "4            4  ADMISIÓN 2019-I  ORDINARIO   \n",
       "..         ...              ...        ...   \n",
       "213        213  ADMISION 2025-I     CEPUNT   \n",
       "214        214  ADMISION 2025-I     CEPUNT   \n",
       "215        215  ADMISION 2025-I     CEPUNT   \n",
       "216        216  ADMISION 2025-I     CEPUNT   \n",
       "217        217  ADMISION 2025-I     CEPUNT   \n",
       "\n",
       "                                    details  \\\n",
       "0                Resultados Cepunt Trujillo   \n",
       "1      Resultados Cepunt Valle Jequetepeque   \n",
       "2              Resultados Cepunt Huamachuco   \n",
       "3      Resultados Ordinario Área A Trujillo   \n",
       "4      Resultados Ordinario Área B Trujillo   \n",
       "..                                      ...   \n",
       "213   I Sumativo CEPUNT: Valle Jequetepeque   \n",
       "214           I Sumativo CEPUNT: Huamachuco   \n",
       "215            II Sumativo CEPUNT: Trujillo   \n",
       "216  II Sumativo CEPUNT: Valle Jequetepeque   \n",
       "217          II Sumativo CEPUNT: Huamachuco   \n",
       "\n",
       "                                                  link  \n",
       "0    http://admisionunt.info/docs/padrones/20191/20...  \n",
       "1    http://admisionunt.info/docs/padrones/20191/20...  \n",
       "2    http://admisionunt.info/docs/padrones/20191/20...  \n",
       "3    http://admisionunt.info/docs/padrones/20191/20...  \n",
       "4    http://admisionunt.info/docs/padrones/20191/20...  \n",
       "..                                                 ...  \n",
       "213  https://unitru.edu.pe/webfiles///Convocatoria/...  \n",
       "214  https://unitru.edu.pe/webfiles///Convocatoria/...  \n",
       "215  https://unitru.edu.pe/webfiles///Convocatoria/...  \n",
       "216  https://unitru.edu.pe/webfiles///Convocatoria/...  \n",
       "217  https://unitru.edu.pe/webfiles///Convocatoria/...  \n",
       "\n",
       "[218 rows x 5 columns]"
      ]
     },
     "execution_count": 2,
     "metadata": {},
     "output_type": "execute_result"
    }
   ],
   "source": [
    "initial_wp_frame = pd.read_csv('webpage_content.csv')\n",
    "initial_wp_frame"
   ]
  },
  {
   "cell_type": "markdown",
   "metadata": {},
   "source": [
    "# CLEAN PERIOD COLUMN"
   ]
  },
  {
   "cell_type": "code",
   "execution_count": 3,
   "metadata": {},
   "outputs": [
    {
     "data": {
      "text/plain": [
       "period\n",
       "ADMISION 2022-II    25\n",
       "ADMISION 2023-II    25\n",
       "ADMISIÓN 2021-II    24\n",
       "ADMISION 2024-II    20\n",
       "ADMISIÓN 2021-I     18\n",
       "ADMISIÓN 2019-II    17\n",
       "ADMISIÓN 2020-II    17\n",
       "ADMISION 2022-I     17\n",
       "ADMISION 2023-I     17\n",
       "ADMISION 2024-I     14\n",
       "ADMISIÓN 2019-I      9\n",
       "ADMISIÓN 2020-I      9\n",
       "ADMISION 2025-I      6\n",
       "Name: count, dtype: int64"
      ]
     },
     "execution_count": 3,
     "metadata": {},
     "output_type": "execute_result"
    }
   ],
   "source": [
    "initial_wp_frame[\"period\"].value_counts()"
   ]
  },
  {
   "cell_type": "code",
   "execution_count": 4,
   "metadata": {},
   "outputs": [
    {
     "data": {
      "text/html": [
       "<div>\n",
       "<style scoped>\n",
       "    .dataframe tbody tr th:only-of-type {\n",
       "        vertical-align: middle;\n",
       "    }\n",
       "\n",
       "    .dataframe tbody tr th {\n",
       "        vertical-align: top;\n",
       "    }\n",
       "\n",
       "    .dataframe thead th {\n",
       "        text-align: right;\n",
       "    }\n",
       "</style>\n",
       "<table border=\"1\" class=\"dataframe\">\n",
       "  <thead>\n",
       "    <tr style=\"text-align: right;\">\n",
       "      <th></th>\n",
       "      <th>year_period</th>\n",
       "      <th>period</th>\n",
       "    </tr>\n",
       "  </thead>\n",
       "  <tbody>\n",
       "    <tr>\n",
       "      <th>0</th>\n",
       "      <td>2019</td>\n",
       "      <td>i</td>\n",
       "    </tr>\n",
       "    <tr>\n",
       "      <th>1</th>\n",
       "      <td>2019</td>\n",
       "      <td>i</td>\n",
       "    </tr>\n",
       "    <tr>\n",
       "      <th>2</th>\n",
       "      <td>2019</td>\n",
       "      <td>i</td>\n",
       "    </tr>\n",
       "    <tr>\n",
       "      <th>3</th>\n",
       "      <td>2019</td>\n",
       "      <td>i</td>\n",
       "    </tr>\n",
       "    <tr>\n",
       "      <th>4</th>\n",
       "      <td>2019</td>\n",
       "      <td>i</td>\n",
       "    </tr>\n",
       "    <tr>\n",
       "      <th>...</th>\n",
       "      <td>...</td>\n",
       "      <td>...</td>\n",
       "    </tr>\n",
       "    <tr>\n",
       "      <th>213</th>\n",
       "      <td>2025</td>\n",
       "      <td>i</td>\n",
       "    </tr>\n",
       "    <tr>\n",
       "      <th>214</th>\n",
       "      <td>2025</td>\n",
       "      <td>i</td>\n",
       "    </tr>\n",
       "    <tr>\n",
       "      <th>215</th>\n",
       "      <td>2025</td>\n",
       "      <td>i</td>\n",
       "    </tr>\n",
       "    <tr>\n",
       "      <th>216</th>\n",
       "      <td>2025</td>\n",
       "      <td>i</td>\n",
       "    </tr>\n",
       "    <tr>\n",
       "      <th>217</th>\n",
       "      <td>2025</td>\n",
       "      <td>i</td>\n",
       "    </tr>\n",
       "  </tbody>\n",
       "</table>\n",
       "<p>218 rows × 2 columns</p>\n",
       "</div>"
      ],
      "text/plain": [
       "    year_period period\n",
       "0          2019      i\n",
       "1          2019      i\n",
       "2          2019      i\n",
       "3          2019      i\n",
       "4          2019      i\n",
       "..          ...    ...\n",
       "213        2025      i\n",
       "214        2025      i\n",
       "215        2025      i\n",
       "216        2025      i\n",
       "217        2025      i\n",
       "\n",
       "[218 rows x 2 columns]"
      ]
     },
     "execution_count": 4,
     "metadata": {},
     "output_type": "execute_result"
    }
   ],
   "source": [
    "periods = cwp.create_period_columns(initial_wp_frame['period'])\n",
    "periods"
   ]
  },
  {
   "cell_type": "markdown",
   "metadata": {},
   "source": [
    "# CLEAN TEST_NAME COLUMN"
   ]
  },
  {
   "cell_type": "code",
   "execution_count": 5,
   "metadata": {},
   "outputs": [
    {
     "data": {
      "text/plain": [
       "test_type\n",
       "ORDINARIO         85\n",
       "CEPUNT            84\n",
       "EXTRAORDINARIO    49\n",
       "Name: count, dtype: int64"
      ]
     },
     "execution_count": 5,
     "metadata": {},
     "output_type": "execute_result"
    }
   ],
   "source": [
    "initial_wp_frame['test_type'].value_counts()"
   ]
  },
  {
   "cell_type": "code",
   "execution_count": 6,
   "metadata": {},
   "outputs": [
    {
     "data": {
      "text/plain": [
       "0         cepunt\n",
       "1         cepunt\n",
       "2         cepunt\n",
       "3      ordinario\n",
       "4      ordinario\n",
       "         ...    \n",
       "213       cepunt\n",
       "214       cepunt\n",
       "215       cepunt\n",
       "216       cepunt\n",
       "217       cepunt\n",
       "Name: test_type, Length: 218, dtype: object"
      ]
     },
     "execution_count": 6,
     "metadata": {},
     "output_type": "execute_result"
    }
   ],
   "source": [
    "test_type = cwp.create_test_column(initial_wp_frame['test_type'])\n",
    "\n",
    "test_type"
   ]
  },
  {
   "cell_type": "markdown",
   "metadata": {},
   "source": [
    "# CLEAN DETAILS COLUMN"
   ]
  },
  {
   "cell_type": "code",
   "execution_count": 7,
   "metadata": {},
   "outputs": [
    {
     "data": {
      "text/plain": [
       "details\n",
       "Resultados Ordinario Área A Trujillo                   11\n",
       "Resultados Ordinario Área B Trujillo                   10\n",
       "Resultados Excelencia Trujillo                         10\n",
       "Resultados Ordinario 5to Secundaria Área A Trujillo     6\n",
       "Resultados Personas con Discapacidad Trujillo           6\n",
       "                                                       ..\n",
       "Resultados Ordinario Área C y D Valle Jequetepeque      1\n",
       "Resultados Ordinario Área A Y D Huamachuco              1\n",
       "Resultados I Sumativo CEPUNT: Trujillo                  1\n",
       "Resultados II Sumativo CEPUNT: Trujillo                 1\n",
       "Áreas B y C: Santiago de Chuco                          1\n",
       "Name: count, Length: 84, dtype: int64"
      ]
     },
     "execution_count": 7,
     "metadata": {},
     "output_type": "execute_result"
    }
   ],
   "source": [
    "initial_wp_frame['details'].value_counts()"
   ]
  },
  {
   "cell_type": "code",
   "execution_count": 8,
   "metadata": {},
   "outputs": [
    {
     "data": {
      "text/plain": [
       "0                 resultados cepunt trujillo\n",
       "1       resultados cepunt valle jequetepeque\n",
       "2               resultados cepunt huamachuco\n",
       "3       resultados ordinario area a trujillo\n",
       "4       resultados ordinario area b trujillo\n",
       "                       ...                  \n",
       "213     i sumativo cepunt valle jequetepeque\n",
       "214             i sumativo cepunt huamachuco\n",
       "215              ii sumativo cepunt trujillo\n",
       "216    ii sumativo cepunt valle jequetepeque\n",
       "217            ii sumativo cepunt huamachuco\n",
       "Name: details, Length: 218, dtype: object"
      ]
     },
     "execution_count": 8,
     "metadata": {},
     "output_type": "execute_result"
    }
   ],
   "source": [
    "details = cwp.create_details_column(initial_wp_frame['details'])\n",
    "\n",
    "details"
   ]
  },
  {
   "cell_type": "code",
   "execution_count": 9,
   "metadata": {},
   "outputs": [
    {
     "data": {
      "text/plain": [
       "0                 resultados cepunt trujillo\n",
       "1       resultados cepunt valle jequetepeque\n",
       "2               resultados cepunt huamachuco\n",
       "3       resultados ordinario area a trujillo\n",
       "4       resultados ordinario area b trujillo\n",
       "                       ...                  \n",
       "210           areas b y c valle jequetepeque\n",
       "211            areas b y c santiago de chuco\n",
       "215              ii sumativo cepunt trujillo\n",
       "216    ii sumativo cepunt valle jequetepeque\n",
       "217            ii sumativo cepunt huamachuco\n",
       "Name: details, Length: 209, dtype: object"
      ]
     },
     "execution_count": 9,
     "metadata": {},
     "output_type": "execute_result"
    }
   ],
   "source": [
    "details = cwp.remove_i_sumativos(details)\n",
    "\n",
    "details"
   ]
  },
  {
   "cell_type": "code",
   "execution_count": 10,
   "metadata": {},
   "outputs": [
    {
     "data": {
      "text/plain": [
       "0      NaN\n",
       "1      NaN\n",
       "2      NaN\n",
       "3      NaN\n",
       "4      NaN\n",
       "      ... \n",
       "210    NaN\n",
       "211    NaN\n",
       "215    NaN\n",
       "216    NaN\n",
       "217    NaN\n",
       "Name: mod, Length: 209, dtype: object"
      ]
     },
     "execution_count": 10,
     "metadata": {},
     "output_type": "execute_result"
    }
   ],
   "source": [
    "mod = cwp.create_mod_column(details.copy())\n",
    "\n",
    "mod"
   ]
  },
  {
   "cell_type": "code",
   "execution_count": 11,
   "metadata": {},
   "outputs": [
    {
     "data": {
      "text/plain": [
       "mod\n",
       "excelencia                             23\n",
       "5to secundaria                         17\n",
       "personas con discapacidad              11\n",
       "victimas de la violencia                6\n",
       "deportistas calificados                 4\n",
       "victimas de la violencia excelencia     1\n",
       "Name: count, dtype: int64"
      ]
     },
     "execution_count": 11,
     "metadata": {},
     "output_type": "execute_result"
    }
   ],
   "source": [
    "mod.value_counts()"
   ]
  },
  {
   "cell_type": "code",
   "execution_count": 12,
   "metadata": {},
   "outputs": [
    {
     "data": {
      "text/plain": [
       "0                trujillo\n",
       "1      valle jequetepeque\n",
       "2              huamachuco\n",
       "3                trujillo\n",
       "4                trujillo\n",
       "              ...        \n",
       "210    valle jequetepeque\n",
       "211     santiago de chuco\n",
       "215              trujillo\n",
       "216    valle jequetepeque\n",
       "217            huamachuco\n",
       "Name: place, Length: 209, dtype: object"
      ]
     },
     "execution_count": 12,
     "metadata": {},
     "output_type": "execute_result"
    }
   ],
   "source": [
    "place = cwp.create_place_column(details.copy())\n",
    "\n",
    "place"
   ]
  },
  {
   "cell_type": "code",
   "execution_count": 13,
   "metadata": {},
   "outputs": [
    {
     "data": {
      "text/html": [
       "<div>\n",
       "<style scoped>\n",
       "    .dataframe tbody tr th:only-of-type {\n",
       "        vertical-align: middle;\n",
       "    }\n",
       "\n",
       "    .dataframe tbody tr th {\n",
       "        vertical-align: top;\n",
       "    }\n",
       "\n",
       "    .dataframe thead th {\n",
       "        text-align: right;\n",
       "    }\n",
       "</style>\n",
       "<table border=\"1\" class=\"dataframe\">\n",
       "  <thead>\n",
       "    <tr style=\"text-align: right;\">\n",
       "      <th></th>\n",
       "      <th>test_type</th>\n",
       "      <th>year_period</th>\n",
       "      <th>period</th>\n",
       "      <th>mod</th>\n",
       "      <th>place</th>\n",
       "      <th>link</th>\n",
       "    </tr>\n",
       "  </thead>\n",
       "  <tbody>\n",
       "    <tr>\n",
       "      <th>0</th>\n",
       "      <td>cepunt</td>\n",
       "      <td>2019</td>\n",
       "      <td>i</td>\n",
       "      <td>NaN</td>\n",
       "      <td>trujillo</td>\n",
       "      <td>http://admisionunt.info/docs/padrones/20191/20...</td>\n",
       "    </tr>\n",
       "    <tr>\n",
       "      <th>1</th>\n",
       "      <td>cepunt</td>\n",
       "      <td>2019</td>\n",
       "      <td>i</td>\n",
       "      <td>NaN</td>\n",
       "      <td>valle jequetepeque</td>\n",
       "      <td>http://admisionunt.info/docs/padrones/20191/20...</td>\n",
       "    </tr>\n",
       "    <tr>\n",
       "      <th>2</th>\n",
       "      <td>cepunt</td>\n",
       "      <td>2019</td>\n",
       "      <td>i</td>\n",
       "      <td>NaN</td>\n",
       "      <td>huamachuco</td>\n",
       "      <td>http://admisionunt.info/docs/padrones/20191/20...</td>\n",
       "    </tr>\n",
       "    <tr>\n",
       "      <th>3</th>\n",
       "      <td>ordinario</td>\n",
       "      <td>2019</td>\n",
       "      <td>i</td>\n",
       "      <td>NaN</td>\n",
       "      <td>trujillo</td>\n",
       "      <td>http://admisionunt.info/docs/padrones/20191/20...</td>\n",
       "    </tr>\n",
       "    <tr>\n",
       "      <th>4</th>\n",
       "      <td>ordinario</td>\n",
       "      <td>2019</td>\n",
       "      <td>i</td>\n",
       "      <td>NaN</td>\n",
       "      <td>trujillo</td>\n",
       "      <td>http://admisionunt.info/docs/padrones/20191/20...</td>\n",
       "    </tr>\n",
       "    <tr>\n",
       "      <th>...</th>\n",
       "      <td>...</td>\n",
       "      <td>...</td>\n",
       "      <td>...</td>\n",
       "      <td>...</td>\n",
       "      <td>...</td>\n",
       "      <td>...</td>\n",
       "    </tr>\n",
       "    <tr>\n",
       "      <th>204</th>\n",
       "      <td>ordinario</td>\n",
       "      <td>2024</td>\n",
       "      <td>ii</td>\n",
       "      <td>NaN</td>\n",
       "      <td>valle jequetepeque</td>\n",
       "      <td>https://unitru.edu.pe/webfiles///Convocatoria/...</td>\n",
       "    </tr>\n",
       "    <tr>\n",
       "      <th>205</th>\n",
       "      <td>ordinario</td>\n",
       "      <td>2024</td>\n",
       "      <td>ii</td>\n",
       "      <td>NaN</td>\n",
       "      <td>santiago de chuco</td>\n",
       "      <td>https://unitru.edu.pe/webfiles///Convocatoria/...</td>\n",
       "    </tr>\n",
       "    <tr>\n",
       "      <th>206</th>\n",
       "      <td>cepunt</td>\n",
       "      <td>2025</td>\n",
       "      <td>i</td>\n",
       "      <td>NaN</td>\n",
       "      <td>trujillo</td>\n",
       "      <td>https://unitru.edu.pe/webfiles///Convocatoria/...</td>\n",
       "    </tr>\n",
       "    <tr>\n",
       "      <th>207</th>\n",
       "      <td>cepunt</td>\n",
       "      <td>2025</td>\n",
       "      <td>i</td>\n",
       "      <td>NaN</td>\n",
       "      <td>valle jequetepeque</td>\n",
       "      <td>https://unitru.edu.pe/webfiles///Convocatoria/...</td>\n",
       "    </tr>\n",
       "    <tr>\n",
       "      <th>208</th>\n",
       "      <td>cepunt</td>\n",
       "      <td>2025</td>\n",
       "      <td>i</td>\n",
       "      <td>NaN</td>\n",
       "      <td>huamachuco</td>\n",
       "      <td>https://unitru.edu.pe/webfiles///Convocatoria/...</td>\n",
       "    </tr>\n",
       "  </tbody>\n",
       "</table>\n",
       "<p>209 rows × 6 columns</p>\n",
       "</div>"
      ],
      "text/plain": [
       "     test_type year_period period  mod               place  \\\n",
       "0       cepunt        2019      i  NaN            trujillo   \n",
       "1       cepunt        2019      i  NaN  valle jequetepeque   \n",
       "2       cepunt        2019      i  NaN          huamachuco   \n",
       "3    ordinario        2019      i  NaN            trujillo   \n",
       "4    ordinario        2019      i  NaN            trujillo   \n",
       "..         ...         ...    ...  ...                 ...   \n",
       "204  ordinario        2024     ii  NaN  valle jequetepeque   \n",
       "205  ordinario        2024     ii  NaN   santiago de chuco   \n",
       "206     cepunt        2025      i  NaN            trujillo   \n",
       "207     cepunt        2025      i  NaN  valle jequetepeque   \n",
       "208     cepunt        2025      i  NaN          huamachuco   \n",
       "\n",
       "                                                  link  \n",
       "0    http://admisionunt.info/docs/padrones/20191/20...  \n",
       "1    http://admisionunt.info/docs/padrones/20191/20...  \n",
       "2    http://admisionunt.info/docs/padrones/20191/20...  \n",
       "3    http://admisionunt.info/docs/padrones/20191/20...  \n",
       "4    http://admisionunt.info/docs/padrones/20191/20...  \n",
       "..                                                 ...  \n",
       "204  https://unitru.edu.pe/webfiles///Convocatoria/...  \n",
       "205  https://unitru.edu.pe/webfiles///Convocatoria/...  \n",
       "206  https://unitru.edu.pe/webfiles///Convocatoria/...  \n",
       "207  https://unitru.edu.pe/webfiles///Convocatoria/...  \n",
       "208  https://unitru.edu.pe/webfiles///Convocatoria/...  \n",
       "\n",
       "[209 rows x 6 columns]"
      ]
     },
     "execution_count": 13,
     "metadata": {},
     "output_type": "execute_result"
    }
   ],
   "source": [
    "t_wp_frame = cwp.join_columns(initial_wp_frame, periods, test_type, details, mod, place)\n",
    "\n",
    "t_wp_frame"
   ]
  },
  {
   "cell_type": "code",
   "execution_count": null,
   "metadata": {},
   "outputs": [],
   "source": []
  }
 ],
 "metadata": {
  "kernelspec": {
   "display_name": "env",
   "language": "python",
   "name": "python3"
  },
  "language_info": {
   "codemirror_mode": {
    "name": "ipython",
    "version": 3
   },
   "file_extension": ".py",
   "mimetype": "text/x-python",
   "name": "python",
   "nbconvert_exporter": "python",
   "pygments_lexer": "ipython3",
   "version": "3.10.12"
  }
 },
 "nbformat": 4,
 "nbformat_minor": 2
}
